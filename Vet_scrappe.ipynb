{
 "cells": [
  {
   "cell_type": "code",
   "execution_count": 81,
   "id": "ad1514d9-87aa-45e2-8ca8-665106d10db6",
   "metadata": {},
   "outputs": [],
   "source": [
    "import pandas as pd\n",
    "from requests import get\n",
    "from bs4 import BeautifulSoup as bs"
   ]
  },
  {
   "cell_type": "code",
   "execution_count": 82,
   "id": "876d5dcc-b624-4384-b253-4fdd8d1102d5",
   "metadata": {},
   "outputs": [
    {
     "data": {
      "text/plain": [
       "84"
      ]
     },
     "execution_count": 82,
     "metadata": {},
     "output_type": "execute_result"
    }
   ],
   "source": [
    "# Recuperation de l'url de la page \n",
    "url = \"https://sn.coinafrique.com/categorie/vetements-homme\"\n",
    "code_html = get(url)\n",
    "soup = bs(code_html.text, 'html.parser')\n",
    "containers = soup.find_all(\"div\", class_ = \"col s6 m4 l3\")\n",
    "len(containers)"
   ]
  },
  {
   "cell_type": "code",
   "execution_count": 83,
   "id": "80713871-9a19-4e06-9cf5-c4f738d1350c",
   "metadata": {},
   "outputs": [
    {
     "name": "stdout",
     "output_type": "stream",
     "text": [
      "Dialabé  homme \n",
      "10 000\n",
      "Fass, Dakar, Sénégal\n",
      "https://images.coinafrique.com/thumb_5181202_uploaded_image1_1739296896.jpg\n"
     ]
    }
   ],
   "source": [
    "#Recuperation de données sur un container\n",
    "container = containers[0]\n",
    "type_habits = container.find(\"p\", class_ = \"ad__card-description\").text\n",
    "prix= container.find(\"p\", class_ = \"ad__card-price\").text.replace(\"CFA\", \"\")\n",
    "adresse = container.find(\"p\", class_ = \"ad__card-location\").text.replace(\"location_on\", \"\")\n",
    "img_link =  container.find('img', class_ = \"ad__card-img\")['src']\n",
    "\n",
    "# Verification \n",
    "print(type_habits)\n",
    "print(prix)\n",
    "print(adresse)\n",
    "print(img_link)"
   ]
  },
  {
   "cell_type": "code",
   "execution_count": 84,
   "id": "88c9670c-f97f-4619-b392-223f41019d04",
   "metadata": {},
   "outputs": [],
   "source": [
    "# scraper les données sur une page \n",
    "data = []\n",
    "for container in containers: \n",
    "    try: \n",
    "        type_habits = container.find(\"p\", class_ = \"ad__card-description\").text\n",
    "        prix= container.find(\"p\", class_ = \"ad__card-price\").text.replace(\"CFA\", \"\")\n",
    "        adresse = container.find(\"p\", class_ = \"ad__card-location\").text.replace(\"location_on\", \"\")\n",
    "        img_link =  container.find('img', class_ = \"ad__card-img\")['src']\n",
    "        dic = {\n",
    "            'type_habits': type_habits, \n",
    "            'prix':prix, \n",
    "            'adresse': adresse,\n",
    "            'img_link': img_link \n",
    "        }\n",
    "        data.append(dic)\n",
    "    except: \n",
    "        pass\n",
    "\n",
    "DF = pd.DataFrame(data)"
   ]
  },
  {
   "cell_type": "code",
   "execution_count": 85,
   "id": "9d3f2110-2270-46cc-9671-53e468e09310",
   "metadata": {},
   "outputs": [],
   "source": [
    "# scrapper sur tous les pages\n",
    "df_vet = pd.DataFrame()\n",
    "for i in range(119): \n",
    "    url = f\"https://sn.coinafrique.com/categorie/vetements-homme?page={i}\"\n",
    "    code_html = get(url)\n",
    "    soup = bs(code_html.text, 'html.parser')\n",
    "    containers = soup.find_all(\"div\", class_ = \"col s6 m4 l3\")\n",
    "    data = []\n",
    "    for container in containers: \n",
    "        try: \n",
    "            type_habits = container.find(\"p\", class_ = \"ad__card-description\").text\n",
    "            prix= container.find(\"p\", class_ = \"ad__card-price\").text.replace(\"CFA\", \"\")\n",
    "            adresse = container.find(\"p\", class_ = \"ad__card-location\").text.replace(\"location_on\", \"\")\n",
    "            img_link =  container.find('img', class_ = \"ad__card-img\")['src']\n",
    "            dic = {\n",
    "                'type_habits': type_habits, \n",
    "                'prix':prix, \n",
    "                'adresse': adresse,\n",
    "                'img_link': img_link \n",
    "            }\n",
    "            data.append(dic)\n",
    "        except: \n",
    "            pass\n",
    "\n",
    "    DF = pd.DataFrame(data)\n",
    "    df_vet = pd.concat([df_vet,DF], axis = 0).reset_index(drop = True)  "
   ]
  },
  {
   "cell_type": "code",
   "execution_count": 89,
   "id": "f13ab7a0-a84f-4934-a5a5-ba5ce67bd5d9",
   "metadata": {},
   "outputs": [
    {
     "data": {
      "text/html": [
       "<div>\n",
       "<style scoped>\n",
       "    .dataframe tbody tr th:only-of-type {\n",
       "        vertical-align: middle;\n",
       "    }\n",
       "\n",
       "    .dataframe tbody tr th {\n",
       "        vertical-align: top;\n",
       "    }\n",
       "\n",
       "    .dataframe thead th {\n",
       "        text-align: right;\n",
       "    }\n",
       "</style>\n",
       "<table border=\"1\" class=\"dataframe\">\n",
       "  <thead>\n",
       "    <tr style=\"text-align: right;\">\n",
       "      <th></th>\n",
       "      <th>type_habits</th>\n",
       "      <th>prix</th>\n",
       "      <th>adresse</th>\n",
       "      <th>img_link</th>\n",
       "    </tr>\n",
       "  </thead>\n",
       "  <tbody>\n",
       "    <tr>\n",
       "      <th>0</th>\n",
       "      <td>Dialabé  homme</td>\n",
       "      <td>10 000</td>\n",
       "      <td>Fass, Dakar, Sénégal</td>\n",
       "      <td>https://images.coinafrique.com/thumb_5181202_u...</td>\n",
       "    </tr>\n",
       "    <tr>\n",
       "      <th>1</th>\n",
       "      <td>Jogging en coton</td>\n",
       "      <td>8 000</td>\n",
       "      <td>Mamelles, Dakar, Sénégal</td>\n",
       "      <td>https://images.coinafrique.com/thumb_5151233_u...</td>\n",
       "    </tr>\n",
       "    <tr>\n",
       "      <th>2</th>\n",
       "      <td>T-shirt Jules</td>\n",
       "      <td>6 500</td>\n",
       "      <td>Ngor, Dakar, Sénégal</td>\n",
       "      <td>https://images.coinafrique.com/thumb_5167839_u...</td>\n",
       "    </tr>\n",
       "    <tr>\n",
       "      <th>3</th>\n",
       "      <td>Chaussures homme</td>\n",
       "      <td>20 000</td>\n",
       "      <td>Fass, Dakar, Sénégal</td>\n",
       "      <td>https://images.coinafrique.com/thumb_5179614_u...</td>\n",
       "    </tr>\n",
       "    <tr>\n",
       "      <th>4</th>\n",
       "      <td>Pantalon  homme</td>\n",
       "      <td>50 000</td>\n",
       "      <td>Ngor, Dakar, Sénégal</td>\n",
       "      <td>https://images.coinafrique.com/thumb_5184663_u...</td>\n",
       "    </tr>\n",
       "  </tbody>\n",
       "</table>\n",
       "</div>"
      ],
      "text/plain": [
       "          type_habits    prix                   adresse  \\\n",
       "0     Dialabé  homme   10 000      Fass, Dakar, Sénégal   \n",
       "1    Jogging en coton   8 000  Mamelles, Dakar, Sénégal   \n",
       "2       T-shirt Jules   6 500      Ngor, Dakar, Sénégal   \n",
       "3  Chaussures homme    20 000      Fass, Dakar, Sénégal   \n",
       "4     Pantalon  homme  50 000      Ngor, Dakar, Sénégal   \n",
       "\n",
       "                                            img_link  \n",
       "0  https://images.coinafrique.com/thumb_5181202_u...  \n",
       "1  https://images.coinafrique.com/thumb_5151233_u...  \n",
       "2  https://images.coinafrique.com/thumb_5167839_u...  \n",
       "3  https://images.coinafrique.com/thumb_5179614_u...  \n",
       "4  https://images.coinafrique.com/thumb_5184663_u...  "
      ]
     },
     "execution_count": 89,
     "metadata": {},
     "output_type": "execute_result"
    }
   ],
   "source": [
    "df_vet.head()"
   ]
  },
  {
   "cell_type": "code",
   "execution_count": 88,
   "id": "779e6150-44a1-4a35-839f-8fd33f9b84fc",
   "metadata": {},
   "outputs": [
    {
     "data": {
      "text/plain": [
       "(9996, 4)"
      ]
     },
     "execution_count": 88,
     "metadata": {},
     "output_type": "execute_result"
    }
   ],
   "source": [
    "df_vet.shape"
   ]
  },
  {
   "cell_type": "code",
   "execution_count": 93,
   "id": "c90e52f4-aca0-4018-886a-d03d3b3122a8",
   "metadata": {},
   "outputs": [
    {
     "data": {
      "text/html": [
       "<div>\n",
       "<style scoped>\n",
       "    .dataframe tbody tr th:only-of-type {\n",
       "        vertical-align: middle;\n",
       "    }\n",
       "\n",
       "    .dataframe tbody tr th {\n",
       "        vertical-align: top;\n",
       "    }\n",
       "\n",
       "    .dataframe thead th {\n",
       "        text-align: right;\n",
       "    }\n",
       "</style>\n",
       "<table border=\"1\" class=\"dataframe\">\n",
       "  <thead>\n",
       "    <tr style=\"text-align: right;\">\n",
       "      <th></th>\n",
       "      <th>type_habits</th>\n",
       "      <th>prix</th>\n",
       "      <th>adresse</th>\n",
       "      <th>img_link</th>\n",
       "    </tr>\n",
       "  </thead>\n",
       "  <tbody>\n",
       "    <tr>\n",
       "      <th>0</th>\n",
       "      <td>Dialabé  homme</td>\n",
       "      <td>10 000</td>\n",
       "      <td>Fass, Dakar, Sénégal</td>\n",
       "      <td>https://images.coinafrique.com/thumb_5181202_u...</td>\n",
       "    </tr>\n",
       "    <tr>\n",
       "      <th>1</th>\n",
       "      <td>Jogging en coton</td>\n",
       "      <td>8 000</td>\n",
       "      <td>Mamelles, Dakar, Sénégal</td>\n",
       "      <td>https://images.coinafrique.com/thumb_5151233_u...</td>\n",
       "    </tr>\n",
       "    <tr>\n",
       "      <th>2</th>\n",
       "      <td>T-shirt Jules</td>\n",
       "      <td>6 500</td>\n",
       "      <td>Ngor, Dakar, Sénégal</td>\n",
       "      <td>https://images.coinafrique.com/thumb_5167839_u...</td>\n",
       "    </tr>\n",
       "    <tr>\n",
       "      <th>3</th>\n",
       "      <td>Pantalon  homme</td>\n",
       "      <td>50 000</td>\n",
       "      <td>Ngor, Dakar, Sénégal</td>\n",
       "      <td>https://images.coinafrique.com/thumb_5184663_u...</td>\n",
       "    </tr>\n",
       "    <tr>\n",
       "      <th>4</th>\n",
       "      <td>Vêtements homme</td>\n",
       "      <td>12 000</td>\n",
       "      <td>Parcelle Assainies, Dakar, Sénégal</td>\n",
       "      <td>https://images.coinafrique.com/thumb_5184001_u...</td>\n",
       "    </tr>\n",
       "    <tr>\n",
       "      <th>...</th>\n",
       "      <td>...</td>\n",
       "      <td>...</td>\n",
       "      <td>...</td>\n",
       "      <td>...</td>\n",
       "    </tr>\n",
       "    <tr>\n",
       "      <th>9952</th>\n",
       "      <td>Ensemble homme</td>\n",
       "      <td>5 500</td>\n",
       "      <td>Dakar Plateau, Dakar, Sénégal</td>\n",
       "      <td>https://images.coinafrique.com/thumb_2125896_u...</td>\n",
       "    </tr>\n",
       "    <tr>\n",
       "      <th>9953</th>\n",
       "      <td>Ensemble homme</td>\n",
       "      <td>5 500</td>\n",
       "      <td>Dakar Plateau, Dakar, Sénégal</td>\n",
       "      <td>https://images.coinafrique.com/thumb_2125894_u...</td>\n",
       "    </tr>\n",
       "    <tr>\n",
       "      <th>9954</th>\n",
       "      <td>Ensemble Vêtements</td>\n",
       "      <td>10 000</td>\n",
       "      <td>Dakar Plateau, Dakar, Sénégal</td>\n",
       "      <td>https://images.coinafrique.com/thumb_2125889_u...</td>\n",
       "    </tr>\n",
       "    <tr>\n",
       "      <th>9955</th>\n",
       "      <td>Ensemble Vêtements</td>\n",
       "      <td>10 000</td>\n",
       "      <td>Dakar Plateau, Dakar, Sénégal</td>\n",
       "      <td>https://images.coinafrique.com/thumb_2125888_u...</td>\n",
       "    </tr>\n",
       "    <tr>\n",
       "      <th>9956</th>\n",
       "      <td>Pantalon blouson et t-shirt</td>\n",
       "      <td>11 000</td>\n",
       "      <td>Guediawaye, Dakar, Sénégal</td>\n",
       "      <td>https://images.coinafrique.com/thumb_2125754_u...</td>\n",
       "    </tr>\n",
       "  </tbody>\n",
       "</table>\n",
       "<p>9957 rows × 4 columns</p>\n",
       "</div>"
      ],
      "text/plain": [
       "                      type_habits    prix                             adresse  \\\n",
       "0                 Dialabé  homme   10 000                Fass, Dakar, Sénégal   \n",
       "1                Jogging en coton   8 000            Mamelles, Dakar, Sénégal   \n",
       "2                   T-shirt Jules   6 500                Ngor, Dakar, Sénégal   \n",
       "3                 Pantalon  homme  50 000                Ngor, Dakar, Sénégal   \n",
       "4                 Vêtements homme  12 000  Parcelle Assainies, Dakar, Sénégal   \n",
       "...                           ...     ...                                 ...   \n",
       "9952               Ensemble homme   5 500       Dakar Plateau, Dakar, Sénégal   \n",
       "9953               Ensemble homme   5 500       Dakar Plateau, Dakar, Sénégal   \n",
       "9954           Ensemble Vêtements  10 000       Dakar Plateau, Dakar, Sénégal   \n",
       "9955           Ensemble Vêtements  10 000       Dakar Plateau, Dakar, Sénégal   \n",
       "9956  Pantalon blouson et t-shirt  11 000          Guediawaye, Dakar, Sénégal   \n",
       "\n",
       "                                               img_link  \n",
       "0     https://images.coinafrique.com/thumb_5181202_u...  \n",
       "1     https://images.coinafrique.com/thumb_5151233_u...  \n",
       "2     https://images.coinafrique.com/thumb_5167839_u...  \n",
       "3     https://images.coinafrique.com/thumb_5184663_u...  \n",
       "4     https://images.coinafrique.com/thumb_5184001_u...  \n",
       "...                                                 ...  \n",
       "9952  https://images.coinafrique.com/thumb_2125896_u...  \n",
       "9953  https://images.coinafrique.com/thumb_2125894_u...  \n",
       "9954  https://images.coinafrique.com/thumb_2125889_u...  \n",
       "9955  https://images.coinafrique.com/thumb_2125888_u...  \n",
       "9956  https://images.coinafrique.com/thumb_2125754_u...  \n",
       "\n",
       "[9957 rows x 4 columns]"
      ]
     },
     "execution_count": 93,
     "metadata": {},
     "output_type": "execute_result"
    }
   ],
   "source": [
    "# Supprimer les lignes où la colonne \"type_habits\" contient \"chaussures\"\n",
    "df_vet = df_vet[~df_vet['type_habits'].str.contains('chaussures', case=False, na=False)].reset_index(drop=True)\n",
    "df_vet"
   ]
  },
  {
   "cell_type": "code",
   "execution_count": null,
   "id": "31ebca02-54d8-438f-8fa1-017745421236",
   "metadata": {},
   "outputs": [],
   "source": []
  }
 ],
 "metadata": {
  "kernelspec": {
   "display_name": "Python 3 (ipykernel)",
   "language": "python",
   "name": "python3"
  },
  "language_info": {
   "codemirror_mode": {
    "name": "ipython",
    "version": 3
   },
   "file_extension": ".py",
   "mimetype": "text/x-python",
   "name": "python",
   "nbconvert_exporter": "python",
   "pygments_lexer": "ipython3",
   "version": "3.11.7"
  }
 },
 "nbformat": 4,
 "nbformat_minor": 5
}

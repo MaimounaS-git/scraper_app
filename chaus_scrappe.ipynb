{
 "cells": [
  {
   "cell_type": "code",
   "execution_count": 20,
   "id": "4be40744-1861-4e08-b390-108664ca344a",
   "metadata": {},
   "outputs": [],
   "source": [
    "import pandas as pd\n",
    "from requests import get\n",
    "from bs4 import BeautifulSoup as bs"
   ]
  },
  {
   "cell_type": "code",
   "execution_count": 21,
   "id": "adc020d8-8249-4123-8b40-de68aa2efd45",
   "metadata": {},
   "outputs": [
    {
     "data": {
      "text/plain": [
       "84"
      ]
     },
     "execution_count": 21,
     "metadata": {},
     "output_type": "execute_result"
    }
   ],
   "source": [
    "url = \"https://sn.coinafrique.com/categorie/chaussures-homme\"\n",
    "code_html = get(url)\n",
    "soup = bs(code_html.text, 'html.parser')\n",
    "containers = soup.find_all(\"div\", class_ = \"col s6 m4 l3\")\n",
    "len(containers)"
   ]
  },
  {
   "cell_type": "code",
   "execution_count": 26,
   "id": "f16660a3-c6e8-4a93-b1c0-dbe97bcb09a6",
   "metadata": {},
   "outputs": [
    {
     "name": "stdout",
     "output_type": "stream",
     "text": [
      "Chaussures homme\n",
      "13 000\n",
      "Dakar Plateau, Dakar, Sénégal\n",
      "https://images.coinafrique.com/thumb_2336421_uploaded_image1_1592957089.jpg\n"
     ]
    }
   ],
   "source": [
    "#Recuperation de données sur un container\n",
    "container = containers[0]\n",
    "type_chaussures = container.find(\"p\", class_ = \"ad__card-description\").text\n",
    "prix= container.find(\"p\", class_ = \"ad__card-price\").text.replace(\"CFA\", \"\")\n",
    "adresse = container.find(\"p\", class_ = \"ad__card-location\").text.replace(\"location_on\", \"\")\n",
    "img_link =  container.find('img', class_ = \"ad__card-img\")['src']\n",
    "\n",
    "# Verification \n",
    "print(type_chaussures)\n",
    "print(prix)\n",
    "print(adresse)\n",
    "print(img_link)"
   ]
  },
  {
   "cell_type": "code",
   "execution_count": 27,
   "id": "2d8a1805-8a89-4d87-b7fd-b3dd9149f772",
   "metadata": {},
   "outputs": [],
   "source": [
    "# scraper les données sur une page \n",
    "data = []\n",
    "for container in containers: \n",
    "    try: \n",
    "        type_chaussures = container.find(\"p\", class_ = \"ad__card-description\").text\n",
    "        prix= container.find(\"p\", class_ = \"ad__card-price\").text.replace(\"CFA\", \"\")\n",
    "        adresse = container.find(\"p\", class_ = \"ad__card-location\").text.replace(\"location_on\", \"\")\n",
    "        img_link =  container.find('img', class_ = \"ad__card-img\")['src']\n",
    "        dic = {\n",
    "            'type_chaussures': type_chaussures, \n",
    "            'prix':prix, \n",
    "            'adresse': adresse,\n",
    "            'img_link': img_link \n",
    "        }\n",
    "        data.append(dic)\n",
    "    except: \n",
    "        pass\n",
    "\n",
    "DF = pd.DataFrame(data)"
   ]
  },
  {
   "cell_type": "code",
   "execution_count": 28,
   "id": "00e5b0bb-7a91-41b9-9457-8914008cdcca",
   "metadata": {},
   "outputs": [
    {
     "data": {
      "text/html": [
       "<div>\n",
       "<style scoped>\n",
       "    .dataframe tbody tr th:only-of-type {\n",
       "        vertical-align: middle;\n",
       "    }\n",
       "\n",
       "    .dataframe tbody tr th {\n",
       "        vertical-align: top;\n",
       "    }\n",
       "\n",
       "    .dataframe thead th {\n",
       "        text-align: right;\n",
       "    }\n",
       "</style>\n",
       "<table border=\"1\" class=\"dataframe\">\n",
       "  <thead>\n",
       "    <tr style=\"text-align: right;\">\n",
       "      <th></th>\n",
       "      <th>type_chaussures</th>\n",
       "      <th>prix</th>\n",
       "      <th>adresse</th>\n",
       "      <th>img_link</th>\n",
       "    </tr>\n",
       "  </thead>\n",
       "  <tbody>\n",
       "    <tr>\n",
       "      <th>0</th>\n",
       "      <td>Chaussures homme</td>\n",
       "      <td>13 000</td>\n",
       "      <td>Dakar Plateau, Dakar, Sénégal</td>\n",
       "      <td>https://images.coinafrique.com/thumb_2336421_u...</td>\n",
       "    </tr>\n",
       "    <tr>\n",
       "      <th>1</th>\n",
       "      <td>Chaussures Sebago</td>\n",
       "      <td>13 000</td>\n",
       "      <td>Dakar Plateau, Dakar, Sénégal</td>\n",
       "      <td>https://images.coinafrique.com/thumb_2336416_u...</td>\n",
       "    </tr>\n",
       "    <tr>\n",
       "      <th>2</th>\n",
       "      <td>Chaussures homme</td>\n",
       "      <td>13 000</td>\n",
       "      <td>Dakar Plateau, Dakar, Sénégal</td>\n",
       "      <td>https://images.coinafrique.com/thumb_2336414_u...</td>\n",
       "    </tr>\n",
       "    <tr>\n",
       "      <th>3</th>\n",
       "      <td>Sandales homme</td>\n",
       "      <td>5 000</td>\n",
       "      <td>Dieuppeul-Derklé, Dakar, Sénégal</td>\n",
       "      <td>https://images.coinafrique.com/thumb_2336390_u...</td>\n",
       "    </tr>\n",
       "    <tr>\n",
       "      <th>4</th>\n",
       "      <td>Chaussures homme</td>\n",
       "      <td>20 000</td>\n",
       "      <td>Dakar Plateau, Dakar, Sénégal</td>\n",
       "      <td>https://images.coinafrique.com/thumb_2336376_u...</td>\n",
       "    </tr>\n",
       "    <tr>\n",
       "      <th>...</th>\n",
       "      <td>...</td>\n",
       "      <td>...</td>\n",
       "      <td>...</td>\n",
       "      <td>...</td>\n",
       "    </tr>\n",
       "    <tr>\n",
       "      <th>79</th>\n",
       "      <td>Baskets Adidas Topanga</td>\n",
       "      <td>20 000</td>\n",
       "      <td>Dakar Plateau, Dakar, Sénégal</td>\n",
       "      <td>https://images.coinafrique.com/thumb_2328512_u...</td>\n",
       "    </tr>\n",
       "    <tr>\n",
       "      <th>80</th>\n",
       "      <td>Chaussures Puma</td>\n",
       "      <td>23 000</td>\n",
       "      <td>Dakar Plateau, Dakar, Sénégal</td>\n",
       "      <td>https://images.coinafrique.com/thumb_2328499_u...</td>\n",
       "    </tr>\n",
       "    <tr>\n",
       "      <th>81</th>\n",
       "      <td>Baskets Nike Air</td>\n",
       "      <td>20 000</td>\n",
       "      <td>Dakar Plateau, Dakar, Sénégal</td>\n",
       "      <td>https://images.coinafrique.com/thumb_2328489_u...</td>\n",
       "    </tr>\n",
       "    <tr>\n",
       "      <th>82</th>\n",
       "      <td>Baskets Jordan</td>\n",
       "      <td>25 000</td>\n",
       "      <td>Dakar Plateau, Dakar, Sénégal</td>\n",
       "      <td>https://images.coinafrique.com/thumb_2328478_u...</td>\n",
       "    </tr>\n",
       "    <tr>\n",
       "      <th>83</th>\n",
       "      <td>Mcqueen</td>\n",
       "      <td>22 500</td>\n",
       "      <td>Dakar Plateau, Dakar, Sénégal</td>\n",
       "      <td>https://images.coinafrique.com/thumb_2328475_u...</td>\n",
       "    </tr>\n",
       "  </tbody>\n",
       "</table>\n",
       "<p>84 rows × 4 columns</p>\n",
       "</div>"
      ],
      "text/plain": [
       "           type_chaussures    prix                           adresse  \\\n",
       "0         Chaussures homme  13 000     Dakar Plateau, Dakar, Sénégal   \n",
       "1        Chaussures Sebago  13 000     Dakar Plateau, Dakar, Sénégal   \n",
       "2         Chaussures homme  13 000     Dakar Plateau, Dakar, Sénégal   \n",
       "3           Sandales homme   5 000  Dieuppeul-Derklé, Dakar, Sénégal   \n",
       "4         Chaussures homme  20 000     Dakar Plateau, Dakar, Sénégal   \n",
       "..                     ...     ...                               ...   \n",
       "79  Baskets Adidas Topanga  20 000     Dakar Plateau, Dakar, Sénégal   \n",
       "80         Chaussures Puma  23 000     Dakar Plateau, Dakar, Sénégal   \n",
       "81        Baskets Nike Air  20 000     Dakar Plateau, Dakar, Sénégal   \n",
       "82          Baskets Jordan  25 000     Dakar Plateau, Dakar, Sénégal   \n",
       "83                 Mcqueen  22 500     Dakar Plateau, Dakar, Sénégal   \n",
       "\n",
       "                                             img_link  \n",
       "0   https://images.coinafrique.com/thumb_2336421_u...  \n",
       "1   https://images.coinafrique.com/thumb_2336416_u...  \n",
       "2   https://images.coinafrique.com/thumb_2336414_u...  \n",
       "3   https://images.coinafrique.com/thumb_2336390_u...  \n",
       "4   https://images.coinafrique.com/thumb_2336376_u...  \n",
       "..                                                ...  \n",
       "79  https://images.coinafrique.com/thumb_2328512_u...  \n",
       "80  https://images.coinafrique.com/thumb_2328499_u...  \n",
       "81  https://images.coinafrique.com/thumb_2328489_u...  \n",
       "82  https://images.coinafrique.com/thumb_2328478_u...  \n",
       "83  https://images.coinafrique.com/thumb_2328475_u...  \n",
       "\n",
       "[84 rows x 4 columns]"
      ]
     },
     "execution_count": 28,
     "metadata": {},
     "output_type": "execute_result"
    }
   ],
   "source": [
    "DF"
   ]
  },
  {
   "cell_type": "code",
   "execution_count": 29,
   "id": "3f3f04a4-f1dd-46c9-9413-716ad25f7b06",
   "metadata": {},
   "outputs": [],
   "source": [
    "# scrapper sur tous les pages\n",
    "df_ch = pd.DataFrame()\n",
    "for i in range(119): \n",
    "    url = f\"https://sn.coinafrique.com/categorie/chaussures-homme?page={i}\"\n",
    "    code_html = get(url)\n",
    "    soup = bs(code_html.text, 'html.parser')\n",
    "    containers = soup.find_all(\"div\", class_ = \"col s6 m4 l3\")\n",
    "    data = []\n",
    "    for container in containers: \n",
    "        try: \n",
    "            type_chaussures = container.find(\"p\", class_ = \"ad__card-description\").text\n",
    "            prix= container.find(\"p\", class_ = \"ad__card-price\").text.replace(\"CFA\", \"\")\n",
    "            adresse = container.find(\"p\", class_ = \"ad__card-location\").text.replace(\"location_on\", \"\")\n",
    "            img_link =  container.find('img', class_ = \"ad__card-img\")['src']\n",
    "            dic = {\n",
    "                'type_chaussures': type_chaussures, \n",
    "                'prix':prix, \n",
    "                'adresse': adresse,\n",
    "                'img_link': img_link \n",
    "            }\n",
    "            data.append(dic)\n",
    "        except: \n",
    "            pass\n",
    "\n",
    "    DF = pd.DataFrame(data)\n",
    "    df_ch = pd.concat([df_vet,DF], axis = 0).reset_index(drop = True)  "
   ]
  },
  {
   "cell_type": "code",
   "execution_count": 30,
   "id": "14434982-8d76-469f-913f-69168d816b0d",
   "metadata": {},
   "outputs": [
    {
     "data": {
      "text/plain": [
       "(9996, 4)"
      ]
     },
     "execution_count": 30,
     "metadata": {},
     "output_type": "execute_result"
    }
   ],
   "source": [
    "df_ch.shape"
   ]
  },
  {
   "cell_type": "code",
   "execution_count": 31,
   "id": "160c3dda-e5b1-4cfa-b1f7-65c0054e40c3",
   "metadata": {},
   "outputs": [
    {
     "data": {
      "text/html": [
       "<div>\n",
       "<style scoped>\n",
       "    .dataframe tbody tr th:only-of-type {\n",
       "        vertical-align: middle;\n",
       "    }\n",
       "\n",
       "    .dataframe tbody tr th {\n",
       "        vertical-align: top;\n",
       "    }\n",
       "\n",
       "    .dataframe thead th {\n",
       "        text-align: right;\n",
       "    }\n",
       "</style>\n",
       "<table border=\"1\" class=\"dataframe\">\n",
       "  <thead>\n",
       "    <tr style=\"text-align: right;\">\n",
       "      <th></th>\n",
       "      <th>type_chaussures</th>\n",
       "      <th>prix</th>\n",
       "      <th>adresse</th>\n",
       "      <th>img_link</th>\n",
       "    </tr>\n",
       "  </thead>\n",
       "  <tbody>\n",
       "    <tr>\n",
       "      <th>0</th>\n",
       "      <td>Sandales Zara</td>\n",
       "      <td>10 000</td>\n",
       "      <td>Colobane, Dakar, Sénégal</td>\n",
       "      <td>https://images.coinafrique.com/thumb_5185077_u...</td>\n",
       "    </tr>\n",
       "    <tr>\n",
       "      <th>1</th>\n",
       "      <td>Chaussures  homme Dior</td>\n",
       "      <td>20 000</td>\n",
       "      <td>Fass, Dakar, Sénégal</td>\n",
       "      <td>https://images.coinafrique.com/thumb_5179616_u...</td>\n",
       "    </tr>\n",
       "    <tr>\n",
       "      <th>2</th>\n",
       "      <td>Chaussures homme</td>\n",
       "      <td>25 000</td>\n",
       "      <td>Dakar, Sénégal</td>\n",
       "      <td>https://images.coinafrique.com/thumb_5183078_u...</td>\n",
       "    </tr>\n",
       "    <tr>\n",
       "      <th>3</th>\n",
       "      <td>Chaussures Parada Milano</td>\n",
       "      <td>16 000</td>\n",
       "      <td>Colobane, Dakar, Sénégal</td>\n",
       "      <td>https://images.coinafrique.com/thumb_5177848_u...</td>\n",
       "    </tr>\n",
       "    <tr>\n",
       "      <th>4</th>\n",
       "      <td>Baskets Adidas</td>\n",
       "      <td>15 000</td>\n",
       "      <td>Colobane, Dakar, Sénégal</td>\n",
       "      <td>https://images.coinafrique.com/thumb_5177843_u...</td>\n",
       "    </tr>\n",
       "  </tbody>\n",
       "</table>\n",
       "</div>"
      ],
      "text/plain": [
       "            type_chaussures    prix                   adresse  \\\n",
       "0             Sandales Zara  10 000  Colobane, Dakar, Sénégal   \n",
       "1   Chaussures  homme Dior   20 000      Fass, Dakar, Sénégal   \n",
       "2         Chaussures homme   25 000            Dakar, Sénégal   \n",
       "3  Chaussures Parada Milano  16 000  Colobane, Dakar, Sénégal   \n",
       "4           Baskets Adidas   15 000  Colobane, Dakar, Sénégal   \n",
       "\n",
       "                                            img_link  \n",
       "0  https://images.coinafrique.com/thumb_5185077_u...  \n",
       "1  https://images.coinafrique.com/thumb_5179616_u...  \n",
       "2  https://images.coinafrique.com/thumb_5183078_u...  \n",
       "3  https://images.coinafrique.com/thumb_5177848_u...  \n",
       "4  https://images.coinafrique.com/thumb_5177843_u...  "
      ]
     },
     "execution_count": 31,
     "metadata": {},
     "output_type": "execute_result"
    }
   ],
   "source": [
    "df_ch.head()"
   ]
  },
  {
   "cell_type": "code",
   "execution_count": null,
   "id": "99dd9442-f274-4e33-b739-e3eba9193e8f",
   "metadata": {},
   "outputs": [],
   "source": []
  }
 ],
 "metadata": {
  "kernelspec": {
   "display_name": "Python 3 (ipykernel)",
   "language": "python",
   "name": "python3"
  },
  "language_info": {
   "codemirror_mode": {
    "name": "ipython",
    "version": 3
   },
   "file_extension": ".py",
   "mimetype": "text/x-python",
   "name": "python",
   "nbconvert_exporter": "python",
   "pygments_lexer": "ipython3",
   "version": "3.11.7"
  }
 },
 "nbformat": 4,
 "nbformat_minor": 5
}
